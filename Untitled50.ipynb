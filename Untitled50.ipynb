{
 "cells": [
  {
   "cell_type": "code",
   "execution_count": 11,
   "metadata": {},
   "outputs": [
    {
     "name": "stdout",
     "output_type": "stream",
     "text": [
      "enter the number-1\n",
      "error\n"
     ]
    }
   ],
   "source": [
    "n=int(input(\"enter the number\"))\n",
    "if n==1:\n",
    "    print(\"monday\")\n",
    "    \n",
    "elif n==2:\n",
    "    print(\"tuesday\")\n",
    "    \n",
    "elif n==3:\n",
    "    print(\"wednesday\")\n",
    "\n",
    "elif n==4:\n",
    "    print(\"thrusday\")\n",
    "    \n",
    "elif n==5:\n",
    "    print(\"friday\")\n",
    "\n",
    "elif n==6:\n",
    "    print(\"saturday\")\n",
    "\n",
    "elif n==7:\n",
    "    print(\"sunday\")\n",
    "else:\n",
    "    print(\"error\")"
   ]
  },
  {
   "cell_type": "code",
   "execution_count": 22,
   "metadata": {},
   "outputs": [
    {
     "name": "stdout",
     "output_type": "stream",
     "text": [
      "enter the number9\n",
      "error\n"
     ]
    }
   ],
   "source": [
    "def week():\n",
    "    n=int(input(\"enter the number\"))\n",
    "    if n==1:\n",
    "        print(\"monday\")\n",
    "    \n",
    "    elif n==2:\n",
    "        print(\"tuesday\")\n",
    "    \n",
    "    elif n==3:\n",
    "        print(\"wednesday\")\n",
    "\n",
    "    elif n==4:\n",
    "        print(\"thrusday\")\n",
    "    \n",
    "    elif n==5:\n",
    "        print(\"friday\")\n",
    "\n",
    "    elif n==6:\n",
    "        print(\"saturday\")\n",
    "\n",
    "    elif n==7:\n",
    "        print(\"sunday\")\n",
    "    else:\n",
    "        print(\"error\")\n",
    "    \n",
    "week()\n"
   ]
  },
  {
   "cell_type": "code",
   "execution_count": 34,
   "metadata": {},
   "outputs": [
    {
     "name": "stdout",
     "output_type": "stream",
     "text": [
      "add,subtract,multiply,divison: add\n",
      "enter the number1: 950450359\n",
      "enter the number2: 5902528523\n",
      "6852978882\n"
     ]
    }
   ],
   "source": [
    "def add(a,b):\n",
    "    print(a+b)\n",
    "def subtract(a,b):\n",
    "    print(a-b)\n",
    "def multiplication(a,b):\n",
    "    print(a*b)\n",
    "def division(a,b):\n",
    "    print(a/b)\n",
    "def calculator():\n",
    "    p = input(\"add,subtract,multiply,divison: \")\n",
    "    a=int(input('enter the number1: '))\n",
    "    b=int(input('enter the number2: '))\n",
    "\n",
    "    if p=='add':\n",
    "        print(a+b)\n",
    "    elif p=='subtract':\n",
    "        print(a-b)\n",
    "    elif p=='multiply':\n",
    "        print(a*b)\n",
    "    elif p=='divison':\n",
    "        print(a/b)\n",
    "    else:\n",
    "        print('invalid')\n",
    "        \n",
    "calculator()"
   ]
  },
  {
   "cell_type": "code",
   "execution_count": 37,
   "metadata": {},
   "outputs": [
    {
     "name": "stdout",
     "output_type": "stream",
     "text": [
      "add,subtract,multiply,divison: add\n",
      "enter the number1: 5000\n",
      "enter the number2: 3035345\n",
      "3040345\n"
     ]
    }
   ],
   "source": [
    "p = input(\"add,subtract,multiply,divison: \")\n",
    "a=int(input('enter the number1: '))\n",
    "b=int(input('enter the number2: '))\n",
    "\n",
    "if p=='add':\n",
    "    print(a+b)\n",
    "elif p=='subtract':\n",
    "    print(a-b)\n",
    "elif p=='multiply':\n",
    "     print(a*b)\n",
    "elif p=='divison':\n",
    "    print(a/b)\n",
    "else:\n",
    "    print('invalid')\n",
    "        \n"
   ]
  },
  {
   "cell_type": "code",
   "execution_count": 38,
   "metadata": {},
   "outputs": [
    {
     "name": "stdout",
     "output_type": "stream",
     "text": [
      "What you want to do : \n",
      "\n",
      " For Addition        Type 1 -------------------    +   ---------------\n",
      " For Subtraction     Type 2    ----------------    -   ---------------\n",
      " For Multiplication  Type 3       -------------    *   ---------------\n",
      " For Division        Type 4 -------------------    /   ---------------\n",
      "\n",
      "2\n",
      " Please Enter First Number : 3813810381\n",
      " Please Enter Second Number : 18737123\n",
      "3813810381  -  18737123 ----> 3795073258\n",
      "\n",
      " if you want to calculate then type 'yes' else type 'no' : yes/no : yes\n",
      "\n",
      "What you want to do : \n",
      "\n",
      " For Addition        Type 1 -------------------    +   ---------------\n",
      " For Subtraction     Type 2    ----------------    -   ---------------\n",
      " For Multiplication  Type 3       -------------    *   ---------------\n",
      " For Division        Type 4 -------------------    /   ---------------\n",
      "\n",
      "4\n",
      " Please Enter First Number : 189247891247124\n",
      " Please Enter Second Number : 12974128941\n",
      "189247891247124  /  12974128941 ----> 14586.558535662081\n",
      "\n",
      " if you want to calculate then type 'yes' else type 'no' : yes/no : no\n",
      "\n",
      "\n",
      "Thank you for using our fuck** program\n",
      "\n"
     ]
    }
   ],
   "source": [
    "def makeAdd(a, b):\n",
    "    return  a + b\n",
    "\n",
    "def sub(a, b):\n",
    "    return a - b\n",
    "\n",
    "def mul(a, b):\n",
    "    return a * b\n",
    "\n",
    "def div(a, b):\n",
    "        return a  / b\n",
    "    \n",
    "\n",
    "\n",
    "def userSelect():\n",
    "    a = True\n",
    "    while(a):\n",
    "        print(\"What you want to do : \")\n",
    "        print()\n",
    "        print(\" For Addition        Type 1 -------------------    +   ---------------\")\n",
    "        print(\" For Subtraction     Type 2    ----------------    -   ---------------\")\n",
    "        print(\" For Multiplication  Type 3       -------------    *   ---------------\")\n",
    "        print(\" For Division        Type 4 -------------------    /   ---------------\")\n",
    "        print()\n",
    "        \n",
    "        userInput = int(input())\n",
    "        if(userInput == 1):\n",
    "            a = int(input(\" Please Enter First Number : \"))\n",
    "            b = int(input(\" Please Enter Second Number : \"))\n",
    "            print(a,\" + \", b, \"---->\", makeAdd(a, b))\n",
    "\n",
    "        elif(userInput == 2):\n",
    "            a = int(input(\" Please Enter First Number : \"))\n",
    "            b = int(input(\" Please Enter Second Number : \"))\n",
    "            print(a, \" - \",b, \"---->\", sub(a, b))\n",
    "\n",
    "        elif(userInput == 3):\n",
    "            a = int(input(\" Please Enter First Number : \"))\n",
    "            b = int(input(\" Please Enter Second Number : \"))\n",
    "            print(a, \" * \", b, \"---->\", mul(a, b))\n",
    "\n",
    "        elif(userInput == 4):\n",
    "            a = int(input(\" Please Enter First Number : \"))\n",
    "            b = int(input(\" Please Enter Second Number : \"))\n",
    "            print(a,\" / \", b, \"---->\", div(a, b))\n",
    "\n",
    "        else:\n",
    "            print(\"Invalid Syntax<---->\")\n",
    "\n",
    "        print()\n",
    "        userExit = input(\" if you want to calculate then type 'yes' else type 'no' : yes/no : \")\n",
    "        print()\n",
    "        if(userExit == \"yes\"):\n",
    "            continue\n",
    "        else:\n",
    "            print()\n",
    "            print(\"Thank you for using our fuck** program\")\n",
    "            print()\n",
    "            a = False\n",
    "\n",
    "userSelect()\n"
   ]
  },
  {
   "cell_type": "code",
   "execution_count": null,
   "metadata": {},
   "outputs": [],
   "source": []
  }
 ],
 "metadata": {
  "kernelspec": {
   "display_name": "Python 3",
   "language": "python",
   "name": "python3"
  },
  "language_info": {
   "codemirror_mode": {
    "name": "ipython",
    "version": 3
   },
   "file_extension": ".py",
   "mimetype": "text/x-python",
   "name": "python",
   "nbconvert_exporter": "python",
   "pygments_lexer": "ipython3",
   "version": "3.8.3"
  }
 },
 "nbformat": 4,
 "nbformat_minor": 4
}
